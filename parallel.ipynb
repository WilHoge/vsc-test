{
 "cells": [
  {
   "cell_type": "code",
   "execution_count": 1,
   "id": "330c5876-6211-48b6-a05f-6e64c6646953",
   "metadata": {
    "id": "9a75788c-0eb3-42a8-9dd0-da24c10b42d6",
    "tags": []
   },
   "outputs": [
    {
     "name": "stdout",
     "output_type": "stream",
     "text": [
      "Task 1 starting.\n",
      "Task 2 starting.\n",
      "Task 3 starting.\n",
      "Task 4 starting.\n",
      "Task 3 completed.\n",
      "Result from task 3\n",
      "Task 1 completed.\n",
      "Result from task 1\n",
      "Task 2 completed.\n",
      "Result from task 2\n",
      "Task 4 completed.\n",
      "Result from task 4\n"
     ]
    }
   ],
   "source": [
    "import concurrent.futures\n",
    "import time\n",
    "\n",
    "# Funktion, die eine Zeitverzögerung simuliert\n",
    "def simulated_task(task_number, sleep_time):\n",
    "    print(f\"Task {task_number} starting.\")\n",
    "    time.sleep(sleep_time)\n",
    "    print(f\"Task {task_number} completed.\")\n",
    "    return f\"Result from task {task_number}\"\n",
    "\n",
    "# Hauptfunktion, die parallele Ausführung demonstriert\n",
    "def main():\n",
    "    # Liste von Aufgaben mit verschiedenen Verzögerungszeiten\n",
    "    tasks = [(1, 2), (2, 3), (3, 1), (4, 4)]\n",
    "\n",
    "    # Verwenden von ThreadPoolExecutor für parallele Ausführung\n",
    "    with concurrent.futures.ThreadPoolExecutor() as executor:\n",
    "        # Startet die Aufgaben und sammelt die Ergebnisse\n",
    "        futures = [executor.submit(simulated_task, task[0], task[1]) for task in tasks]\n",
    "        \n",
    "        # Wartet auf die Ergebnisse der Aufgaben\n",
    "        for future in concurrent.futures.as_completed(futures):\n",
    "            result = future.result()\n",
    "            print(result)\n",
    "\n",
    "if __name__ == '__main__':\n",
    "    main()\n"
   ]
  },
  {
   "cell_type": "code",
   "execution_count": 2,
   "id": "43b28096-933f-4184-b5ba-8a5971d5390e",
   "metadata": {
    "id": "43b28096-933f-4184-b5ba-8a5971d5390e",
    "tags": []
   },
   "outputs": [
    {
     "name": "stdout",
     "output_type": "stream",
     "text": [
      "Starting sequential execution...\n",
      "Task 1 starting.\n",
      "Task 1 completed.\n",
      "Task 2 starting.\n",
      "Task 2 completed.\n",
      "Task 3 starting.\n",
      "Task 3 completed.\n",
      "Task 4 starting.\n",
      "Task 4 completed.\n",
      "Sequential execution results: ['Result from task 1', 'Result from task 2', 'Result from task 3', 'Result from task 4']\n",
      "Sequential execution took 10.05 seconds.\n",
      "\n",
      "Starting parallel execution...\n",
      "Task 1 starting.\n",
      "Task 2 starting.\n",
      "Task 3 starting.\n",
      "Task 4 starting.\n",
      "Task 3 completed.\n",
      "Task 1 completed.\n",
      "Task 2 completed.\n",
      "Task 4 completed.\n",
      "Parallel execution results: ['Result from task 3', 'Result from task 1', 'Result from task 2', 'Result from task 4']\n",
      "Parallel execution took 4.02 seconds.\n"
     ]
    }
   ],
   "source": [
    "import concurrent.futures\n",
    "import time\n",
    "\n",
    "# Funktion, die eine Zeitverzögerung simuliert\n",
    "def simulated_task(task_number, sleep_time):\n",
    "    print(f\"Task {task_number} starting.\")\n",
    "    time.sleep(sleep_time)\n",
    "    print(f\"Task {task_number} completed.\")\n",
    "    return f\"Result from task {task_number}\"\n",
    "\n",
    "# Funktion, um Aufgaben nacheinander auszuführen\n",
    "def sequential_execution(tasks):\n",
    "    results = []\n",
    "    for task in tasks:\n",
    "        result = simulated_task(task[0], task[1])\n",
    "        results.append(result)\n",
    "    return results\n",
    "\n",
    "# Funktion, um Aufgaben parallel auszuführen\n",
    "def parallel_execution(tasks):\n",
    "    results = []\n",
    "    with concurrent.futures.ThreadPoolExecutor() as executor:\n",
    "        futures = [executor.submit(simulated_task, task[0], task[1]) for task in tasks]\n",
    "        for future in concurrent.futures.as_completed(futures):\n",
    "            results.append(future.result())\n",
    "    return results\n",
    "\n",
    "def main():\n",
    "    tasks = [(1, 2), (2, 3), (3, 1), (4, 4)]\n",
    "\n",
    "    print(\"Starting sequential execution...\")\n",
    "    start_time = time.time()\n",
    "    sequential_results = sequential_execution(tasks)\n",
    "    sequential_duration = time.time() - start_time\n",
    "    print(\"Sequential execution results:\", sequential_results)\n",
    "    print(f\"Sequential execution took {sequential_duration:.2f} seconds.\\n\")\n",
    "\n",
    "    print(\"Starting parallel execution...\")\n",
    "    start_time = time.time()\n",
    "    parallel_results = parallel_execution(tasks)\n",
    "    parallel_duration = time.time() - start_time\n",
    "    print(\"Parallel execution results:\", parallel_results)\n",
    "    print(f\"Parallel execution took {parallel_duration:.2f} seconds.\")\n",
    "\n",
    "if __name__ == '__main__':\n",
    "    main()\n"
   ]
  },
  {
   "cell_type": "code",
   "execution_count": null,
   "id": "3d492b3e-2eab-41f1-9122-2c3597b57880",
   "metadata": {
    "id": "3d492b3e-2eab-41f1-9122-2c3597b57880"
   },
   "outputs": [],
   "source": []
  }
 ],
 "metadata": {
  "kernelspec": {
   "display_name": "Python 3.10",
   "language": "python",
   "name": "python3"
  },
  "language_info": {
   "codemirror_mode": {
    "name": "ipython",
    "version": 3
   },
   "file_extension": ".py",
   "mimetype": "text/x-python",
   "name": "python",
   "nbconvert_exporter": "python",
   "pygments_lexer": "ipython3",
   "version": "3.10.13"
  }
 },
 "nbformat": 4,
 "nbformat_minor": 5
}
